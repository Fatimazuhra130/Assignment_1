{
 "cells": [
  {
   "cell_type": "code",
   "execution_count": 14,
   "metadata": {},
   "outputs": [
    {
     "name": "stdout",
     "output_type": "stream",
     "text": [
      "Twinkle,twinkle,little star\n",
      "\tNow I wonder What you are\n",
      "\t\tUp above the world so high,\n",
      "\t\tLike a diamond in the sky,\n",
      "Twinkle Twinkle little star \n",
      "\tNow I wonder What yo are\n"
     ]
    }
   ],
   "source": [
    "\"1.Write a program to print folowing string in specific format\"\n",
    "poem_line1=\"Twinkle,twinkle,little star\\n\\tNow I wonder What you are\\n\\t\\tUp above the world so high,\\n\\t\\tLike a diamond in the sky,\\nTwinkle Twinkle little star \\n\\tNow I wonder What yo are\"\n",
    "\n",
    "print(poem_line1)\n"
   ]
  },
  {
   "cell_type": "code",
   "execution_count": 11,
   "metadata": {},
   "outputs": [
    {
     "name": "stdout",
     "output_type": "stream",
     "text": [
      "Python version\n",
      "3.7.4 (default, Aug  9 2019, 18:22:51) [MSC v.1915 32 bit (Intel)]\n",
      "Version info.\n",
      "sys.version_info(major=3, minor=7, micro=4, releaselevel='final', serial=0)\n"
     ]
    }
   ],
   "source": [
    "\"2.Write a python program to get the python version you are using\"\n",
    "import sys\n",
    "print(\"Python version\")\n",
    "print (sys.version)\n",
    "print(\"Version info.\")\n",
    "print (sys.version_info)"
   ]
  },
  {
   "cell_type": "code",
   "execution_count": 13,
   "metadata": {},
   "outputs": [
    {
     "name": "stdout",
     "output_type": "stream",
     "text": [
      "Current date and time : \n",
      "2019-11-12 05:23:58\n"
     ]
    }
   ],
   "source": [
    "\"3.Write a python proram to display current date and time\"\n",
    "import datetime\n",
    "now = datetime.datetime.now()\n",
    "print (\"Current date and time : \")\n",
    "print (now.strftime(\"%Y-%m-%d %H:%M:%S\"))"
   ]
  },
  {
   "cell_type": "code",
   "execution_count": 15,
   "metadata": {},
   "outputs": [
    {
     "name": "stdout",
     "output_type": "stream",
     "text": [
      "Input the radius of the circle : 5\n",
      "The area of the circle with radius 5.0 is: 78.53981633974483\n"
     ]
    }
   ],
   "source": [
    "\"4.Write a python program which accepts the radius of a circle fromthe user and computer area\"\n",
    "from math import pi\n",
    "radius = float(input (\"Input the radius of the circle : \"))\n",
    "print (\"The area of the circle with radius \" + str(radius) + \" is: \" + str(pi * radius**2))"
   ]
  },
  {
   "cell_type": "code",
   "execution_count": 18,
   "metadata": {},
   "outputs": [
    {
     "name": "stdout",
     "output_type": "stream",
     "text": [
      "Enter First name:Fatima\n",
      "Enter Last name:zuhra\n",
      "Hello zuhra Fatima\n"
     ]
    }
   ],
   "source": [
    "\"5.Write a python program which accepts the user's first and last name and print them in reverse order with a space between them\"\n",
    "fname=input(\"Enter First name:\")\n",
    "lname=input(\"Enter Last name:\")\n",
    "print(\"Hello \" + lname + \" \" + fname)"
   ]
  },
  {
   "cell_type": "code",
   "execution_count": 21,
   "metadata": {},
   "outputs": [
    {
     "name": "stdout",
     "output_type": "stream",
     "text": [
      "Enter num 1 :5\n",
      "Enter num 2 :5\n",
      "The sum of5 and 5 is 10.0\n"
     ]
    }
   ],
   "source": [
    "\"6.Write a python program to which take two input from user and print them addition\"\n",
    "num1=input(\"Enter num 1 :\")\n",
    "num2=input(\"Enter num 2 :\")\n",
    "sum=float(num1)+float(num2)\n",
    "print('The sum of {0} and {1} is {2}'.format(num1,num2,sum))"
   ]
  },
  {
   "cell_type": "code",
   "execution_count": null,
   "metadata": {},
   "outputs": [],
   "source": []
  }
 ],
 "metadata": {
  "kernelspec": {
   "display_name": "Python 3",
   "language": "python",
   "name": "python3"
  },
  "language_info": {
   "codemirror_mode": {
    "name": "ipython",
    "version": 3
   },
   "file_extension": ".py",
   "mimetype": "text/x-python",
   "name": "python",
   "nbconvert_exporter": "python",
   "pygments_lexer": "ipython3",
   "version": "3.7.4"
  }
 },
 "nbformat": 4,
 "nbformat_minor": 2
}
